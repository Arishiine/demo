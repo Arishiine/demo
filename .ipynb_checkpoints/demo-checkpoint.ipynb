{
 "cells": [
  {
   "cell_type": "markdown",
   "id": "d5908865-af98-46a7-aabd-f034d3c7e33c",
   "metadata": {},
   "source": [
    "# SALARIES PROJECT"
   ]
  },
  {
   "cell_type": "markdown",
   "id": "9f76910d-96b0-4b8a-a7cb-8deb2db2dcea",
   "metadata": {},
   "source": [
    "## BUSINESS UNDERSTANDING"
   ]
  },
  {
   "cell_type": "markdown",
   "id": "3e29c484-20dd-4403-9190-14aa3b0f7402",
   "metadata": {},
   "source": [
    "## DATA UNDERSTANDING"
   ]
  }
 ],
 "metadata": {
  "kernelspec": {
   "display_name": "Python (learn-env)",
   "language": "python",
   "name": "learn-env"
  },
  "language_info": {
   "codemirror_mode": {
    "name": "ipython",
    "version": 3
   },
   "file_extension": ".py",
   "mimetype": "text/x-python",
   "name": "python",
   "nbconvert_exporter": "python",
   "pygments_lexer": "ipython3",
   "version": "3.11.9"
  }
 },
 "nbformat": 4,
 "nbformat_minor": 5
}
